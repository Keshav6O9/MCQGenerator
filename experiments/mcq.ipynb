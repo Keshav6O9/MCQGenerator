{
 "cells": [
  {
   "cell_type": "code",
   "execution_count": 1,
   "metadata": {},
   "outputs": [],
   "source": [
    "import os, json, pandas as pd, traceback"
   ]
  },
  {
   "cell_type": "code",
   "execution_count": 2,
   "metadata": {},
   "outputs": [],
   "source": [
    "from langchain.chat_models import ChatOpenAI"
   ]
  },
  {
   "cell_type": "code",
   "execution_count": 3,
   "metadata": {},
   "outputs": [
    {
     "data": {
      "text/plain": [
       "True"
      ]
     },
     "execution_count": 3,
     "metadata": {},
     "output_type": "execute_result"
    }
   ],
   "source": [
    "from dotenv import load_dotenv\n",
    "\n",
    "load_dotenv() "
   ]
  },
  {
   "cell_type": "code",
   "execution_count": 4,
   "metadata": {},
   "outputs": [],
   "source": [
    "import os\n",
    "from getpass import getpass\n",
    "\n",
    "# os.environ[\"AI21_API_KEY\"] = getpass()\n",
    "os.environ[\"COHERE_API_KEY\"] = getpass()"
   ]
  },
  {
   "cell_type": "code",
   "execution_count": 5,
   "metadata": {},
   "outputs": [],
   "source": [
    "# from langchain_ai21 import AI21LLM\n",
    "# # llm = ChatOpenAI(openai_api_key=KEY,model_name=\"gpt-3.5-turbo\",temperature=0.3)\n",
    "# llm = AI21LLM(model=\"j2-ultra\")\n",
    "from langchain_cohere import ChatCohere\n",
    "from langchain_core.messages import HumanMessage\n",
    "llm = ChatCohere(model=\"command\", max_tokens=256, temperature=0.75)"
   ]
  },
  {
   "cell_type": "code",
   "execution_count": 6,
   "metadata": {},
   "outputs": [
    {
     "data": {
      "text/plain": [
       "ChatCohere(client=<cohere.client.Client object at 0x000001DECB627FD0>, async_client=<cohere.client.AsyncClient object at 0x000001DECB661040>, model='command', temperature=0.75, cohere_api_key=SecretStr('**********'))"
      ]
     },
     "execution_count": 6,
     "metadata": {},
     "output_type": "execute_result"
    }
   ],
   "source": [
    "llm"
   ]
  },
  {
   "cell_type": "code",
   "execution_count": 7,
   "metadata": {},
   "outputs": [],
   "source": [
    "\n",
    "from langchain.llms import OpenAI\n",
    "from langchain.prompts import PromptTemplate\n",
    "from langchain.chains import LLMChain\n",
    "from langchain.chains import SequentialChain\n",
    "from langchain.callbacks import get_openai_callback\n",
    "from langchain_ai21 import AI21LLM\n",
    "import PyPDF2"
   ]
  },
  {
   "cell_type": "code",
   "execution_count": 8,
   "metadata": {},
   "outputs": [],
   "source": [
    "RESPONSE_JSON = {\n",
    "    \"1\": {\n",
    "        \"mcq\": \"multiple choice question\",\n",
    "        \"options\": {\n",
    "            \"a\": \"choice here\",\n",
    "            \"b\": \"choice here\",\n",
    "            \"c\": \"choice here\",\n",
    "            \"d\": \"choice here\",\n",
    "        },\n",
    "        \"correct\": \"correct answer\",\n",
    "    },\n",
    "    \"2\": {\n",
    "        \"mcq\": \"multiple choice question\",\n",
    "        \"options\": {\n",
    "            \"a\": \"choice here\",\n",
    "            \"b\": \"choice here\",\n",
    "            \"c\": \"choice here\",\n",
    "            \"d\": \"choice here\",\n",
    "        },\n",
    "        \"correct\": \"correct answer\",\n",
    "    },\n",
    "    \"3\": {\n",
    "        \"mcq\": \"multiple choice question\",\n",
    "        \"options\": {\n",
    "            \"a\": \"choice here\",\n",
    "            \"b\": \"choice here\",\n",
    "            \"c\": \"choice here\",\n",
    "            \"d\": \"choice here\",\n",
    "        },\n",
    "        \"correct\": \"correct answer\",\n",
    "    },\n",
    "}"
   ]
  },
  {
   "cell_type": "code",
   "execution_count": 9,
   "metadata": {},
   "outputs": [],
   "source": [
    "\n",
    "TEMPLATE=\"\"\"\n",
    "Text:{text}\n",
    "You are an expert MCQ maker. Given the above text, it is your job to \\\n",
    "create a quiz  of {number} multiple choice questions for {subject} students in {tone} tone. \n",
    "Make sure the questions are not repeated and check all the questions to be conforming the text as well.\n",
    "Make sure to format your response like RESPONSE_JSON below and use it as a guide. \\\n",
    "Ensure to make {number} MCQs\n",
    "### RESPONSE_JSON\n",
    "{response_json}\n",
    "\n",
    "\"\"\""
   ]
  },
  {
   "cell_type": "code",
   "execution_count": 10,
   "metadata": {},
   "outputs": [],
   "source": [
    "quiz_generation_prompt = PromptTemplate(\n",
    "    input_variables=[\"text\",\"number\",\"subject\",\"tone\",\"response_json\"],\n",
    "    template=TEMPLATE\n",
    ")"
   ]
  },
  {
   "cell_type": "code",
   "execution_count": 11,
   "metadata": {},
   "outputs": [],
   "source": [
    "quiz_chain =LLMChain(llm=llm , prompt=quiz_generation_prompt,output_key=\"quiz\",verbose=True)"
   ]
  },
  {
   "cell_type": "code",
   "execution_count": 12,
   "metadata": {},
   "outputs": [],
   "source": [
    "TEMPLATE2=\"\"\"\n",
    "You are an expert english grammarian and writer. Given a Multiple Choice Quiz for {subject} students.\\\n",
    "You need to evaluate the complexity of the question and give a complete analysis of the quiz. Only use at max 50 words for complexity analysis. \n",
    "if the quiz is not at per with the cognitive and analytical abilities of the students,\\\n",
    "update the quiz questions which needs to be changed and change the tone such that it perfectly fits the student abilities\n",
    "Quiz_MCQs:\n",
    "{quiz}\n",
    "\n",
    "Check from an expert English Writer of the above quiz:\n",
    "\"\"\""
   ]
  },
  {
   "cell_type": "code",
   "execution_count": 13,
   "metadata": {},
   "outputs": [],
   "source": [
    "quiz_evaluation_prompt=PromptTemplate(input_variables=[\"subject\", \"quiz\"], template=TEMPLATE)\n"
   ]
  },
  {
   "cell_type": "code",
   "execution_count": 14,
   "metadata": {},
   "outputs": [],
   "source": [
    "review_chain=LLMChain(llm=llm, prompt=quiz_evaluation_prompt, output_key=\"review\", verbose=True)"
   ]
  },
  {
   "cell_type": "code",
   "execution_count": 15,
   "metadata": {},
   "outputs": [],
   "source": [
    "generate_evaluate_chain=SequentialChain(chains=[quiz_chain, review_chain], input_variables=[\"text\", \"number\", \"subject\", \"tone\", \"response_json\"],\n",
    "                                        output_variables=[\"quiz\", \"review\"], verbose=True,)\n"
   ]
  },
  {
   "cell_type": "code",
   "execution_count": 16,
   "metadata": {},
   "outputs": [
    {
     "name": "stdout",
     "output_type": "stream",
     "text": [
      "Title: The Synergy of Generative AI and Large Language Models: A Paradigm Shift in Creativity and Understanding\n",
      "\n",
      "Introduction:\n",
      "In recent years, the integration of Generative Artificial Intelligence (AI) and Large Language Models (LLMs) has led to groundbreaking advancements across various fields. This essay explores the symbiotic relationship between these two technologies, delving into their individual capabilities and the transformative impact they have when combined. Through examining their applications in creative endeavors, problem-solving, and knowledge dissemination, it becomes evident that their synergy heralds a new era of innovation and comprehension.\n",
      "\n",
      "Understanding Generative AI and Large Language Models:\n",
      "Generative AI refers to a subset of artificial intelligence that focuses on generating new content autonomously. It encompasses a wide range of techniques, from rule-based systems to deep learning models like Generative Adversarial Networks (GANs) and Variational Autoencoders (VAEs). These systems learn from vast datasets to produce novel outputs, whether they are images, text, music, or other forms of media.\n",
      "\n",
      "On the other hand, Large Language Models (LLMs) are neural network architectures trained on massive text corpora, enabling them to understand and generate human-like text. Models like OpenAI's GPT (Generative Pre-trained Transformer) series exemplify this approach, exhibiting remarkable fluency and coherence in generating text across diverse topics. They achieve this by learning the statistical properties of language through extensive pre-training on vast textual datasets.\n",
      "\n",
      "Synergy in Creativity and Innovation:\n",
      "When Generative AI and LLMs converge, they unlock unparalleled potential in creative expression and innovation. For instance, in the realm of art and design, generative algorithms can generate novel visual concepts, while LLMs can provide accompanying textual descriptions or explanations. This fusion not only accelerates the creative process but also fosters interdisciplinary collaboration and exploration.\n",
      "\n",
      "Moreover, in fields such as literature and journalism, the combination of Generative AI and LLMs enables the automation of content creation, augmenting human writers' capabilities. These systems can assist in generating drafts, conducting research, or even suggesting creative ideas, thereby streamlining the writing process and enhancing productivity.\n",
      "\n",
      "Problem-Solving and Decision-Making:\n",
      "Generative AI and LLMs also play a crucial role in problem-solving and decision-making domains. By analyzing vast amounts of data and synthesizing complex information, these technologies can offer insights and recommendations across various sectors, including healthcare, finance, and engineering.\n",
      "\n",
      "In healthcare, for instance, Generative AI can assist in drug discovery by generating novel molecular structures with desired properties, while LLMs can aid in analyzing medical literature and clinical records to extract relevant information. Similarly, in finance, these technologies can be utilized for risk assessment, fraud detection, and algorithmic trading, empowering financial institutions to make informed decisions in real-time.\n",
      "\n",
      "Knowledge Dissemination and Education:\n",
      "The integration of Generative AI and LLMs revolutionizes knowledge dissemination and education by democratizing access to information and facilitating personalized learning experiences. Through conversational interfaces and educational platforms, these technologies can engage learners in interactive dialogues, adapt content to individual preferences, and generate customized learning materials.\n",
      "\n",
      "Furthermore, in the age of digital libraries and online repositories, Generative AI and LLMs enable the synthesis of vast amounts of information into coherent summaries, analyses, or explanations. This not only enhances comprehension but also promotes critical thinking and synthesis skills among learners.\n",
      "\n",
      "Conclusion:\n",
      "In conclusion, the synergy between Generative AI and Large Language Models represents a paradigm shift in creativity, understanding, and problem-solving. By harnessing the complementary strengths of these technologies, we can unlock new frontiers of innovation across diverse domains. However, it is imperative to address ethical considerations, such as bias mitigation and accountability, to ensure responsible deployment and equitable access to the benefits of AI-driven advancements. Ultimately, the fusion of Generative AI and LLMs holds the promise of reshaping our world and ushering in a future where human and machine intelligence collaborate harmoniously for the betterment of society.\n"
     ]
    }
   ],
   "source": [
    "\n",
    "file_path=r\"E:\\ProexeLancers\\GenAI_LLMS\\MCQGenerator\\experiments\\data.txt\"\n",
    "\n",
    "with open(file_path, 'r') as file:\n",
    "    TEXT = file.read()\n",
    "\n",
    "print(TEXT)"
   ]
  },
  {
   "cell_type": "code",
   "execution_count": 17,
   "metadata": {},
   "outputs": [
    {
     "data": {
      "text/plain": [
       "'{\"1\": {\"mcq\": \"multiple choice question\", \"options\": {\"a\": \"choice here\", \"b\": \"choice here\", \"c\": \"choice here\", \"d\": \"choice here\"}, \"correct\": \"correct answer\"}, \"2\": {\"mcq\": \"multiple choice question\", \"options\": {\"a\": \"choice here\", \"b\": \"choice here\", \"c\": \"choice here\", \"d\": \"choice here\"}, \"correct\": \"correct answer\"}, \"3\": {\"mcq\": \"multiple choice question\", \"options\": {\"a\": \"choice here\", \"b\": \"choice here\", \"c\": \"choice here\", \"d\": \"choice here\"}, \"correct\": \"correct answer\"}}'"
      ]
     },
     "execution_count": 17,
     "metadata": {},
     "output_type": "execute_result"
    }
   ],
   "source": [
    "\n",
    "# Serialize the Python dictionary into a JSON-formatted string\n",
    "json.dumps(RESPONSE_JSON)"
   ]
  },
  {
   "cell_type": "code",
   "execution_count": 18,
   "metadata": {},
   "outputs": [],
   "source": [
    "NUMBER=5 \n",
    "SUBJECT=\"Artificial Intellegence\"\n",
    "TONE=\"simple\""
   ]
  },
  {
   "cell_type": "code",
   "execution_count": null,
   "metadata": {},
   "outputs": [],
   "source": [
    "\n",
    "\n"
   ]
  },
  {
   "cell_type": "code",
   "execution_count": 19,
   "metadata": {},
   "outputs": [
    {
     "name": "stderr",
     "output_type": "stream",
     "text": [
      "e:\\ProexeLancers\\GenAI_LLMS\\MCQGenerator\\env\\lib\\site-packages\\langchain_core\\_api\\deprecation.py:117: LangChainDeprecationWarning: The function `__call__` was deprecated in LangChain 0.1.0 and will be removed in 0.2.0. Use invoke instead.\n",
      "  warn_deprecated(\n"
     ]
    },
    {
     "name": "stdout",
     "output_type": "stream",
     "text": [
      "\n",
      "\n",
      "\u001b[1m> Entering new SequentialChain chain...\u001b[0m\n",
      "\n",
      "\n",
      "\u001b[1m> Entering new LLMChain chain...\u001b[0m\n",
      "Prompt after formatting:\n",
      "\u001b[32;1m\u001b[1;3m\n",
      "Text:Title: The Synergy of Generative AI and Large Language Models: A Paradigm Shift in Creativity and Understanding\n",
      "\n",
      "Introduction:\n",
      "In recent years, the integration of Generative Artificial Intelligence (AI) and Large Language Models (LLMs) has led to groundbreaking advancements across various fields. This essay explores the symbiotic relationship between these two technologies, delving into their individual capabilities and the transformative impact they have when combined. Through examining their applications in creative endeavors, problem-solving, and knowledge dissemination, it becomes evident that their synergy heralds a new era of innovation and comprehension.\n",
      "\n",
      "Understanding Generative AI and Large Language Models:\n",
      "Generative AI refers to a subset of artificial intelligence that focuses on generating new content autonomously. It encompasses a wide range of techniques, from rule-based systems to deep learning models like Generative Adversarial Networks (GANs) and Variational Autoencoders (VAEs). These systems learn from vast datasets to produce novel outputs, whether they are images, text, music, or other forms of media.\n",
      "\n",
      "On the other hand, Large Language Models (LLMs) are neural network architectures trained on massive text corpora, enabling them to understand and generate human-like text. Models like OpenAI's GPT (Generative Pre-trained Transformer) series exemplify this approach, exhibiting remarkable fluency and coherence in generating text across diverse topics. They achieve this by learning the statistical properties of language through extensive pre-training on vast textual datasets.\n",
      "\n",
      "Synergy in Creativity and Innovation:\n",
      "When Generative AI and LLMs converge, they unlock unparalleled potential in creative expression and innovation. For instance, in the realm of art and design, generative algorithms can generate novel visual concepts, while LLMs can provide accompanying textual descriptions or explanations. This fusion not only accelerates the creative process but also fosters interdisciplinary collaboration and exploration.\n",
      "\n",
      "Moreover, in fields such as literature and journalism, the combination of Generative AI and LLMs enables the automation of content creation, augmenting human writers' capabilities. These systems can assist in generating drafts, conducting research, or even suggesting creative ideas, thereby streamlining the writing process and enhancing productivity.\n",
      "\n",
      "Problem-Solving and Decision-Making:\n",
      "Generative AI and LLMs also play a crucial role in problem-solving and decision-making domains. By analyzing vast amounts of data and synthesizing complex information, these technologies can offer insights and recommendations across various sectors, including healthcare, finance, and engineering.\n",
      "\n",
      "In healthcare, for instance, Generative AI can assist in drug discovery by generating novel molecular structures with desired properties, while LLMs can aid in analyzing medical literature and clinical records to extract relevant information. Similarly, in finance, these technologies can be utilized for risk assessment, fraud detection, and algorithmic trading, empowering financial institutions to make informed decisions in real-time.\n",
      "\n",
      "Knowledge Dissemination and Education:\n",
      "The integration of Generative AI and LLMs revolutionizes knowledge dissemination and education by democratizing access to information and facilitating personalized learning experiences. Through conversational interfaces and educational platforms, these technologies can engage learners in interactive dialogues, adapt content to individual preferences, and generate customized learning materials.\n",
      "\n",
      "Furthermore, in the age of digital libraries and online repositories, Generative AI and LLMs enable the synthesis of vast amounts of information into coherent summaries, analyses, or explanations. This not only enhances comprehension but also promotes critical thinking and synthesis skills among learners.\n",
      "\n",
      "Conclusion:\n",
      "In conclusion, the synergy between Generative AI and Large Language Models represents a paradigm shift in creativity, understanding, and problem-solving. By harnessing the complementary strengths of these technologies, we can unlock new frontiers of innovation across diverse domains. However, it is imperative to address ethical considerations, such as bias mitigation and accountability, to ensure responsible deployment and equitable access to the benefits of AI-driven advancements. Ultimately, the fusion of Generative AI and LLMs holds the promise of reshaping our world and ushering in a future where human and machine intelligence collaborate harmoniously for the betterment of society.\n",
      "You are an expert MCQ maker. Given the above text, it is your job to create a quiz  of 5 multiple choice questions for Artificial Intellegence students in simple tone. \n",
      "Make sure the questions are not repeated and check all the questions to be conforming the text as well.\n",
      "Make sure to format your response like RESPONSE_JSON below and use it as a guide. Ensure to make 5 MCQs\n",
      "### RESPONSE_JSON\n",
      "{\"1\": {\"mcq\": \"multiple choice question\", \"options\": {\"a\": \"choice here\", \"b\": \"choice here\", \"c\": \"choice here\", \"d\": \"choice here\"}, \"correct\": \"correct answer\"}, \"2\": {\"mcq\": \"multiple choice question\", \"options\": {\"a\": \"choice here\", \"b\": \"choice here\", \"c\": \"choice here\", \"d\": \"choice here\"}, \"correct\": \"correct answer\"}, \"3\": {\"mcq\": \"multiple choice question\", \"options\": {\"a\": \"choice here\", \"b\": \"choice here\", \"c\": \"choice here\", \"d\": \"choice here\"}, \"correct\": \"correct answer\"}}\n",
      "\n",
      "\u001b[0m\n",
      "\n",
      "\u001b[1m> Finished chain.\u001b[0m\n",
      "\n",
      "\n",
      "\u001b[1m> Entering new LLMChain chain...\u001b[0m\n",
      "Prompt after formatting:\n",
      "\u001b[32;1m\u001b[1;3m\n",
      "Text:Title: The Synergy of Generative AI and Large Language Models: A Paradigm Shift in Creativity and Understanding\n",
      "\n",
      "Introduction:\n",
      "In recent years, the integration of Generative Artificial Intelligence (AI) and Large Language Models (LLMs) has led to groundbreaking advancements across various fields. This essay explores the symbiotic relationship between these two technologies, delving into their individual capabilities and the transformative impact they have when combined. Through examining their applications in creative endeavors, problem-solving, and knowledge dissemination, it becomes evident that their synergy heralds a new era of innovation and comprehension.\n",
      "\n",
      "Understanding Generative AI and Large Language Models:\n",
      "Generative AI refers to a subset of artificial intelligence that focuses on generating new content autonomously. It encompasses a wide range of techniques, from rule-based systems to deep learning models like Generative Adversarial Networks (GANs) and Variational Autoencoders (VAEs). These systems learn from vast datasets to produce novel outputs, whether they are images, text, music, or other forms of media.\n",
      "\n",
      "On the other hand, Large Language Models (LLMs) are neural network architectures trained on massive text corpora, enabling them to understand and generate human-like text. Models like OpenAI's GPT (Generative Pre-trained Transformer) series exemplify this approach, exhibiting remarkable fluency and coherence in generating text across diverse topics. They achieve this by learning the statistical properties of language through extensive pre-training on vast textual datasets.\n",
      "\n",
      "Synergy in Creativity and Innovation:\n",
      "When Generative AI and LLMs converge, they unlock unparalleled potential in creative expression and innovation. For instance, in the realm of art and design, generative algorithms can generate novel visual concepts, while LLMs can provide accompanying textual descriptions or explanations. This fusion not only accelerates the creative process but also fosters interdisciplinary collaboration and exploration.\n",
      "\n",
      "Moreover, in fields such as literature and journalism, the combination of Generative AI and LLMs enables the automation of content creation, augmenting human writers' capabilities. These systems can assist in generating drafts, conducting research, or even suggesting creative ideas, thereby streamlining the writing process and enhancing productivity.\n",
      "\n",
      "Problem-Solving and Decision-Making:\n",
      "Generative AI and LLMs also play a crucial role in problem-solving and decision-making domains. By analyzing vast amounts of data and synthesizing complex information, these technologies can offer insights and recommendations across various sectors, including healthcare, finance, and engineering.\n",
      "\n",
      "In healthcare, for instance, Generative AI can assist in drug discovery by generating novel molecular structures with desired properties, while LLMs can aid in analyzing medical literature and clinical records to extract relevant information. Similarly, in finance, these technologies can be utilized for risk assessment, fraud detection, and algorithmic trading, empowering financial institutions to make informed decisions in real-time.\n",
      "\n",
      "Knowledge Dissemination and Education:\n",
      "The integration of Generative AI and LLMs revolutionizes knowledge dissemination and education by democratizing access to information and facilitating personalized learning experiences. Through conversational interfaces and educational platforms, these technologies can engage learners in interactive dialogues, adapt content to individual preferences, and generate customized learning materials.\n",
      "\n",
      "Furthermore, in the age of digital libraries and online repositories, Generative AI and LLMs enable the synthesis of vast amounts of information into coherent summaries, analyses, or explanations. This not only enhances comprehension but also promotes critical thinking and synthesis skills among learners.\n",
      "\n",
      "Conclusion:\n",
      "In conclusion, the synergy between Generative AI and Large Language Models represents a paradigm shift in creativity, understanding, and problem-solving. By harnessing the complementary strengths of these technologies, we can unlock new frontiers of innovation across diverse domains. However, it is imperative to address ethical considerations, such as bias mitigation and accountability, to ensure responsible deployment and equitable access to the benefits of AI-driven advancements. Ultimately, the fusion of Generative AI and LLMs holds the promise of reshaping our world and ushering in a future where human and machine intelligence collaborate harmoniously for the betterment of society.\n",
      "You are an expert MCQ maker. Given the above text, it is your job to create a quiz  of 5 multiple choice questions for Artificial Intellegence students in simple tone. \n",
      "Make sure the questions are not repeated and check all the questions to be conforming the text as well.\n",
      "Make sure to format your response like RESPONSE_JSON below and use it as a guide. Ensure to make 5 MCQs\n",
      "### RESPONSE_JSON\n",
      "{\"1\": {\"mcq\": \"multiple choice question\", \"options\": {\"a\": \"choice here\", \"b\": \"choice here\", \"c\": \"choice here\", \"d\": \"choice here\"}, \"correct\": \"correct answer\"}, \"2\": {\"mcq\": \"multiple choice question\", \"options\": {\"a\": \"choice here\", \"b\": \"choice here\", \"c\": \"choice here\", \"d\": \"choice here\"}, \"correct\": \"correct answer\"}, \"3\": {\"mcq\": \"multiple choice question\", \"options\": {\"a\": \"choice here\", \"b\": \"choice here\", \"c\": \"choice here\", \"d\": \"choice here\"}, \"correct\": \"correct answer\"}}\n",
      "\n",
      "\u001b[0m\n",
      "\n",
      "\u001b[1m> Finished chain.\u001b[0m\n",
      "\n",
      "\u001b[1m> Finished chain.\u001b[0m\n"
     ]
    }
   ],
   "source": [
    "\n",
    "response=generate_evaluate_chain(\n",
    "        {\n",
    "            \"text\": TEXT,\n",
    "            \"number\": NUMBER,\n",
    "            \"subject\":SUBJECT,\n",
    "            \"tone\": TONE,\n",
    "            \"response_json\": json.dumps(RESPONSE_JSON)\n",
    "        }\n",
    "        )"
   ]
  },
  {
   "cell_type": "code",
   "execution_count": 46,
   "metadata": {},
   "outputs": [
    {
     "name": "stdout",
     "output_type": "stream",
     "text": [
      "Here are 5 multiple-choice questions based on the text 'The Synergy of Generative AI and Large Language Models: A Paradigm Shift in Creativity and Understanding':\n",
      "1. Within the field of ____________, Generative AI can generate novel molecular structures with desired properties.\n",
      "A. Creativity \n",
      "B. Art \n",
      "C. Drug Discovery \n",
      "D. Design \n",
      "\n",
      "2. Which of the following best describes the core purpose of Large Language Models?\n",
      "A. To enhance human-computer interactions \n",
      "B. To innovate creative expression \n",
      "C. To synthesize and summarize vast amounts of information \n",
      "D. To assist in decision-making processes \n",
      "\n",
      "3. Which of the following applications is MOST aligned with the synergy between Generative AI and Large Language Models?\n",
      "A. Recommendation Systems \n",
      "B. Virtual Assistants \n",
      "C. Machine Translation \n",
      "D. Automated Essay Scoring \n",
      "\n",
      "4. Generative AI can have a notable impact on which of the following areas within the healthcare sector?\n",
      "A. Diagnosis and Treatment \n",
      "B. Patient Monitoring \n",
      "C. Clinical Decision Support \n",
      "D. Cybersecurity in Healthcare \n",
      "\n",
      "5. Which of the following is NOT a type of Generative AI?\n",
      "A. Rule-based Systems \n",
      "B. Generative Adversarial Networks \n",
      "C. Variational Autoencoders \n",
      "D. Deep Learning Models \n",
      "\n",
      "These questions evaluate some key concepts and applications discussed in the text regarding Generative AI and Large Language Models.\n"
     ]
    }
   ],
   "source": [
    "print(response['review'])\n",
    "\n",
    "\n"
   ]
  },
  {
   "cell_type": "code",
   "execution_count": 39,
   "metadata": {},
   "outputs": [],
   "source": [
    "llm2 = ChatCohere(model=\"command\", max_tokens=256, temperature=0)"
   ]
  },
  {
   "cell_type": "code",
   "execution_count": 40,
   "metadata": {},
   "outputs": [],
   "source": [
    "template = '''\n",
    " convert the given string into dictionary format.{string}\n",
    "\n",
    "\n",
    "'''\n",
    "json_prompt = PromptTemplate(\n",
    "    input_variables=[\"string\"],\n",
    "    template=template\n",
    ")\n",
    "\n",
    "json_chain=LLMChain(llm=llm2, prompt=json_prompt, verbose=True)"
   ]
  },
  {
   "cell_type": "code",
   "execution_count": 41,
   "metadata": {},
   "outputs": [
    {
     "name": "stdout",
     "output_type": "stream",
     "text": [
      "\n",
      "\n",
      "\u001b[1m> Entering new LLMChain chain...\u001b[0m\n",
      "Prompt after formatting:\n",
      "\u001b[32;1m\u001b[1;3m\n",
      " convert the given string into dictionary format.Here are 5 multiple-choice questions based on the text \"The Synergy of Generative AI and Large Language Models: A Paradigm Shift in Creativity and Understanding\" for students of Artificial Intelligence: \n",
      "\n",
      "1. \n",
      "Multiple Choice Question: Generative AI utilizes techniques such as ________ and ________ to generate new content. \n",
      "Options:\n",
      "A Rule-based Systems and Deep Learning\n",
      "B Statistical Analysis and Rule-based Systems\n",
      "C Deep Learning and Large Language Models\n",
      "D Statistical Properties and Deep Learning\n",
      "\n",
      "Answer:\n",
      "D \n",
      "\n",
      "2. \n",
      "Multiple Choice Question: Large Language Models are trained on massive datasets to learn the ________ of language. \n",
      "Options:\n",
      "A Rules\n",
      "B Coherence\n",
      "C Correlation\n",
      "D Statistics\n",
      "\n",
      "Answer:\n",
      "D \n",
      "\n",
      "3. \n",
      "Multiple Choice Question: The synergy between Generative AI and Large Language Models has enhanced creativity and innovation in ________ domains. \n",
      "Options:\n",
      "A Art and Design\n",
      "B Journalism\n",
      "C Healthcare\n",
      "D Engineering\n",
      "\n",
      "Answer:\n",
      "A \n",
      "\n",
      "4. \n",
      "Multiple Choice Question: Generative AI and LLMs can automate content creation, suggesting creative ideas and generating text across diverse topics. This is especially applicable in _________.\n",
      "Options:\n",
      "A Art and Design\n",
      "B Journalism\n",
      "C Healthcare\n",
      "D Finance\n",
      "\n",
      "Answer:\n",
      "B \n",
      "\n",
      "5. \n",
      "Multiple Choice Question: The integration of Generative AI and Large Language Models has the potential to democratize access to information and personalize learning experiences in the field of ________.\n",
      "Options:\n",
      "A Art and Design\n",
      "B Journalism\n",
      "C Education\n",
      "D Finance\n",
      "\n",
      "Answer:\n",
      "C\n",
      "\n",
      "\n",
      "\u001b[0m\n",
      "\n",
      "\u001b[1m> Finished chain.\u001b[0m\n"
     ]
    }
   ],
   "source": [
    "json_op= json_chain.run(response.get('quiz'))"
   ]
  },
  {
   "cell_type": "code",
   "execution_count": 24,
   "metadata": {},
   "outputs": [],
   "source": [
    "json_op = json_op.replace(\"```json \",\"\")\n",
    "json_op = json_op.replace(\"```\",\"\")"
   ]
  },
  {
   "cell_type": "code",
   "execution_count": 42,
   "metadata": {},
   "outputs": [
    {
     "data": {
      "text/plain": [
       "'Here is the provided text converted to dictionary format:\\n\\n```python\\nartificial_intelligence = {\\n\"title\": \"The Synergy of Generative AI and Large Language Models: A Paradigm Shift in Creativity and Understanding\",\\n\"questions\": [\\n{\"question\": \"Which option best describes the type of content generation used by Generative AI?\",\\n \"options\": [\"A Rule-based Systems and Deep Learning\", \"B Statistical Analysis and Rule-based Systems\", \"C Deep Learning and Large Language Models\", \"D Statistical Properties and Deep Learning\"],\\n \"answer\": \"D\"},\\n {\"question\": \"What do Large Language Models learn during training?\", \"options\": [\"A Rules\", \"B Coherence\", \"C Correlation\", \"D Statistics\"], \"answer\": \"D\"},\\n {\"question\": \"Which domains have benefited the most from the synergy between Generative AI and Large Language Models?\", \"options\": [\"A Art and Design\", \"B Journalism\", \"C Healthcare\", \"D Engineering\"], \"answer\": \"A\"},\\n {\"question\": \"Which aspect of content creation can Generative AI and Large Language Models automate?\", \"options\": [\"A Art and Design\", \"B Journalism\", \"C Healthcare\", \"D Finance\"], \"answer\": \"B\"},\\n {\"question\": \"What field could benefit from enhanced personalization and access to information?\", \"options\": [\"A Art and Design\", \"B Journalism\", \"C Education\", \"D Finance\"], \"answer\": \"C\"},\\n {\"question\": \"What is the overall theme or message of the text?\", \"options\": [\"A Art and Design\", \"B Journalism\", \"C The benefits of AI and LLM synergy\", \"D Finance\"], \"answer\": \"C\"}\\n]}\\n```\\n\\nHere is the analysis of the answers for the multiple choice questions based on the text \"The Synergy of Generative AI and Large Language Models: A Paradigm Shift in Creativity and Understanding\":\\n\\n1. Answer: D - The correct answer is option D, Statistical Properties and Deep Learning. Generative AI utilizes statistical properties and deep learning techniques to generate new content.\\n2. Answer: D - The correct answer is option D, Statistics. Large Language Models are trained on massive datasets to learn the statistical properties of language, not coherence or correlation.\\n3. Answer: A - The correct answer is option A, Art and Design. The synergy between Generative AI and Large Language Models has enhanced creativity and innovation in art and design domains.\\n4. Answer: B - The correct answer is option B, Journalism. Generative AI and LLMs can automate content creation, suggesting creative ideas and generating text across diverse topics. This is especially applicable in journalism.\\n5. Answer: C - The correct answer is option C, Education. The integration of Generative AI and Large Language Models has the potential to democratize access to information and personalize learning experiences in the field of education. \\n\\nSo, the text focuses on exploring the potential and benefits of the synergy between Generative AI and Large Language Models in various fields, emphasizing creativity, innovation, and personalized learning experiences.'"
      ]
     },
     "execution_count": 42,
     "metadata": {},
     "output_type": "execute_result"
    }
   ],
   "source": [
    "json_op"
   ]
  },
  {
   "cell_type": "code",
   "execution_count": 43,
   "metadata": {},
   "outputs": [
    {
     "name": "stdout",
     "output_type": "stream",
     "text": [
      "Here is the provided text converted to dictionary format:\n",
      "\n",
      "```python\n",
      "artificial_intelligence = {\n",
      "\"title\": \"The Synergy of Generative AI and Large Language Models: A Paradigm Shift in Creativity and Understanding\",\n",
      "\"questions\": [\n",
      "{\"question\": \"Which option best describes the type of content generation used by Generative AI?\",\n",
      " \"options\": [\"A Rule-based Systems and Deep Learning\", \"B Statistical Analysis and Rule-based Systems\", \"C Deep Learning and Large Language Models\", \"D Statistical Properties and Deep Learning\"],\n",
      " \"answer\": \"D\"},\n",
      " {\"question\": \"What do Large Language Models learn during training?\", \"options\": [\"A Rules\", \"B Coherence\", \"C Correlation\", \"D Statistics\"], \"answer\": \"D\"},\n",
      " {\"question\": \"Which domains have benefited the most from the synergy between Generative AI and Large Language Models?\", \"options\": [\"A Art and Design\", \"B Journalism\", \"C Healthcare\", \"D Engineering\"], \"answer\": \"A\"},\n",
      " {\"question\": \"Which aspect of content creation can Generative AI and Large Language Models automate?\", \"options\": [\"A Art and Design\", \"B Journalism\", \"C Healthcare\", \"D Finance\"], \"answer\": \"B\"},\n",
      " {\"question\": \"What field could benefit from enhanced personalization and access to information?\", \"options\": [\"A Art and Design\", \"B Journalism\", \"C Education\", \"D Finance\"], \"answer\": \"C\"},\n",
      " {\"question\": \"What is the overall theme or message of the text?\", \"options\": [\"A Art and Design\", \"B Journalism\", \"C The benefits of AI and LLM synergy\", \"D Finance\"], \"answer\": \"C\"}\n",
      "]}\n",
      "```\n",
      "\n",
      "Here is the analysis of the answers for the multiple choice questions based on the text \"The Synergy of Generative AI and Large Language Models: A Paradigm Shift in Creativity and Understanding\":\n",
      "\n",
      "1. Answer: D - The correct answer is option D, Statistical Properties and Deep Learning. Generative AI utilizes statistical properties and deep learning techniques to generate new content.\n",
      "2. Answer: D - The correct answer is option D, Statistics. Large Language Models are trained on massive datasets to learn the statistical properties of language, not coherence or correlation.\n",
      "3. Answer: A - The correct answer is option A, Art and Design. The synergy between Generative AI and Large Language Models has enhanced creativity and innovation in art and design domains.\n",
      "4. Answer: B - The correct answer is option B, Journalism. Generative AI and LLMs can automate content creation, suggesting creative ideas and generating text across diverse topics. This is especially applicable in journalism.\n",
      "5. Answer: C - The correct answer is option C, Education. The integration of Generative AI and Large Language Models has the potential to democratize access to information and personalize learning experiences in the field of education. \n",
      "\n",
      "So, the text focuses on exploring the potential and benefits of the synergy between Generative AI and Large Language Models in various fields, emphasizing creativity, innovation, and personalized learning experiences.\n"
     ]
    }
   ],
   "source": [
    "print(json_op)"
   ]
  },
  {
   "cell_type": "code",
   "execution_count": 29,
   "metadata": {},
   "outputs": [
    {
     "ename": "JSONDecodeError",
     "evalue": "Expecting value: line 1 column 1 (char 0)",
     "output_type": "error",
     "traceback": [
      "\u001b[1;31m---------------------------------------------------------------------------\u001b[0m",
      "\u001b[1;31mJSONDecodeError\u001b[0m                           Traceback (most recent call last)",
      "Cell \u001b[1;32mIn[29], line 1\u001b[0m\n\u001b[1;32m----> 1\u001b[0m qz \u001b[38;5;241m=\u001b[39m \u001b[43mjson\u001b[49m\u001b[38;5;241;43m.\u001b[39;49m\u001b[43mloads\u001b[49m\u001b[43m(\u001b[49m\u001b[43mjson_op\u001b[49m\u001b[43m)\u001b[49m\n",
      "File \u001b[1;32m~\\AppData\\Local\\Programs\\Python\\Python39\\lib\\json\\__init__.py:346\u001b[0m, in \u001b[0;36mloads\u001b[1;34m(s, cls, object_hook, parse_float, parse_int, parse_constant, object_pairs_hook, **kw)\u001b[0m\n\u001b[0;32m    341\u001b[0m     s \u001b[38;5;241m=\u001b[39m s\u001b[38;5;241m.\u001b[39mdecode(detect_encoding(s), \u001b[38;5;124m'\u001b[39m\u001b[38;5;124msurrogatepass\u001b[39m\u001b[38;5;124m'\u001b[39m)\n\u001b[0;32m    343\u001b[0m \u001b[38;5;28;01mif\u001b[39;00m (\u001b[38;5;28mcls\u001b[39m \u001b[38;5;129;01mis\u001b[39;00m \u001b[38;5;28;01mNone\u001b[39;00m \u001b[38;5;129;01mand\u001b[39;00m object_hook \u001b[38;5;129;01mis\u001b[39;00m \u001b[38;5;28;01mNone\u001b[39;00m \u001b[38;5;129;01mand\u001b[39;00m\n\u001b[0;32m    344\u001b[0m         parse_int \u001b[38;5;129;01mis\u001b[39;00m \u001b[38;5;28;01mNone\u001b[39;00m \u001b[38;5;129;01mand\u001b[39;00m parse_float \u001b[38;5;129;01mis\u001b[39;00m \u001b[38;5;28;01mNone\u001b[39;00m \u001b[38;5;129;01mand\u001b[39;00m\n\u001b[0;32m    345\u001b[0m         parse_constant \u001b[38;5;129;01mis\u001b[39;00m \u001b[38;5;28;01mNone\u001b[39;00m \u001b[38;5;129;01mand\u001b[39;00m object_pairs_hook \u001b[38;5;129;01mis\u001b[39;00m \u001b[38;5;28;01mNone\u001b[39;00m \u001b[38;5;129;01mand\u001b[39;00m \u001b[38;5;129;01mnot\u001b[39;00m kw):\n\u001b[1;32m--> 346\u001b[0m     \u001b[38;5;28;01mreturn\u001b[39;00m \u001b[43m_default_decoder\u001b[49m\u001b[38;5;241;43m.\u001b[39;49m\u001b[43mdecode\u001b[49m\u001b[43m(\u001b[49m\u001b[43ms\u001b[49m\u001b[43m)\u001b[49m\n\u001b[0;32m    347\u001b[0m \u001b[38;5;28;01mif\u001b[39;00m \u001b[38;5;28mcls\u001b[39m \u001b[38;5;129;01mis\u001b[39;00m \u001b[38;5;28;01mNone\u001b[39;00m:\n\u001b[0;32m    348\u001b[0m     \u001b[38;5;28mcls\u001b[39m \u001b[38;5;241m=\u001b[39m JSONDecoder\n",
      "File \u001b[1;32m~\\AppData\\Local\\Programs\\Python\\Python39\\lib\\json\\decoder.py:337\u001b[0m, in \u001b[0;36mJSONDecoder.decode\u001b[1;34m(self, s, _w)\u001b[0m\n\u001b[0;32m    332\u001b[0m \u001b[38;5;28;01mdef\u001b[39;00m \u001b[38;5;21mdecode\u001b[39m(\u001b[38;5;28mself\u001b[39m, s, _w\u001b[38;5;241m=\u001b[39mWHITESPACE\u001b[38;5;241m.\u001b[39mmatch):\n\u001b[0;32m    333\u001b[0m \u001b[38;5;250m    \u001b[39m\u001b[38;5;124;03m\"\"\"Return the Python representation of ``s`` (a ``str`` instance\u001b[39;00m\n\u001b[0;32m    334\u001b[0m \u001b[38;5;124;03m    containing a JSON document).\u001b[39;00m\n\u001b[0;32m    335\u001b[0m \n\u001b[0;32m    336\u001b[0m \u001b[38;5;124;03m    \"\"\"\u001b[39;00m\n\u001b[1;32m--> 337\u001b[0m     obj, end \u001b[38;5;241m=\u001b[39m \u001b[38;5;28;43mself\u001b[39;49m\u001b[38;5;241;43m.\u001b[39;49m\u001b[43mraw_decode\u001b[49m\u001b[43m(\u001b[49m\u001b[43ms\u001b[49m\u001b[43m,\u001b[49m\u001b[43m \u001b[49m\u001b[43midx\u001b[49m\u001b[38;5;241;43m=\u001b[39;49m\u001b[43m_w\u001b[49m\u001b[43m(\u001b[49m\u001b[43ms\u001b[49m\u001b[43m,\u001b[49m\u001b[43m \u001b[49m\u001b[38;5;241;43m0\u001b[39;49m\u001b[43m)\u001b[49m\u001b[38;5;241;43m.\u001b[39;49m\u001b[43mend\u001b[49m\u001b[43m(\u001b[49m\u001b[43m)\u001b[49m\u001b[43m)\u001b[49m\n\u001b[0;32m    338\u001b[0m     end \u001b[38;5;241m=\u001b[39m _w(s, end)\u001b[38;5;241m.\u001b[39mend()\n\u001b[0;32m    339\u001b[0m     \u001b[38;5;28;01mif\u001b[39;00m end \u001b[38;5;241m!=\u001b[39m \u001b[38;5;28mlen\u001b[39m(s):\n",
      "File \u001b[1;32m~\\AppData\\Local\\Programs\\Python\\Python39\\lib\\json\\decoder.py:355\u001b[0m, in \u001b[0;36mJSONDecoder.raw_decode\u001b[1;34m(self, s, idx)\u001b[0m\n\u001b[0;32m    353\u001b[0m     obj, end \u001b[38;5;241m=\u001b[39m \u001b[38;5;28mself\u001b[39m\u001b[38;5;241m.\u001b[39mscan_once(s, idx)\n\u001b[0;32m    354\u001b[0m \u001b[38;5;28;01mexcept\u001b[39;00m \u001b[38;5;167;01mStopIteration\u001b[39;00m \u001b[38;5;28;01mas\u001b[39;00m err:\n\u001b[1;32m--> 355\u001b[0m     \u001b[38;5;28;01mraise\u001b[39;00m JSONDecodeError(\u001b[38;5;124m\"\u001b[39m\u001b[38;5;124mExpecting value\u001b[39m\u001b[38;5;124m\"\u001b[39m, s, err\u001b[38;5;241m.\u001b[39mvalue) \u001b[38;5;28;01mfrom\u001b[39;00m \u001b[38;5;28;01mNone\u001b[39;00m\n\u001b[0;32m    356\u001b[0m \u001b[38;5;28;01mreturn\u001b[39;00m obj, end\n",
      "\u001b[1;31mJSONDecodeError\u001b[0m: Expecting value: line 1 column 1 (char 0)"
     ]
    }
   ],
   "source": [
    "qz = json.loads(json_op)"
   ]
  },
  {
   "cell_type": "code",
   "execution_count": 27,
   "metadata": {},
   "outputs": [],
   "source": [
    "import datetime\n",
    "\n",
    "# Get the current date and time\n",
    "now = datetime.datetime.now()\n",
    "\n",
    "# Convert the datetime object to a string\n",
    "date_time_str = now.strftime(\"%Y-%m-%d %H:%M:%S\")\n",
    "\n"
   ]
  },
  {
   "cell_type": "code",
   "execution_count": 28,
   "metadata": {},
   "outputs": [],
   "source": [
    "filename = \"mcqs\"+ now.strftime(\"%Y-%m-%d-%H-%M\")\n",
    "\n",
    "with open(filename, 'w') as f:\n",
    "    f.write(response.get('quiz'))"
   ]
  },
  {
   "cell_type": "code",
   "execution_count": null,
   "metadata": {},
   "outputs": [],
   "source": []
  }
 ],
 "metadata": {
  "kernelspec": {
   "display_name": "env",
   "language": "python",
   "name": "python3"
  },
  "language_info": {
   "codemirror_mode": {
    "name": "ipython",
    "version": 3
   },
   "file_extension": ".py",
   "mimetype": "text/x-python",
   "name": "python",
   "nbconvert_exporter": "python",
   "pygments_lexer": "ipython3",
   "version": "3.9.0"
  }
 },
 "nbformat": 4,
 "nbformat_minor": 2
}
